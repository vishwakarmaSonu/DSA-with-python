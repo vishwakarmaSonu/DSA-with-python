{
 "cells": [
  {
   "cell_type": "code",
   "execution_count": 1,
   "id": "7adac453",
   "metadata": {},
   "outputs": [
    {
     "name": "stdout",
     "output_type": "stream",
     "text": [
      "pythn\n"
     ]
    }
   ],
   "source": [
    "# to remove char from string\n",
    "str = \"python\"\n",
    "ch ='o'\n",
    "print(str.replace(ch,\"\"))"
   ]
  },
  {
   "cell_type": "code",
   "execution_count": 4,
   "id": "d5acd829",
   "metadata": {},
   "outputs": [
    {
     "name": "stdout",
     "output_type": "stream",
     "text": [
      "2\n"
     ]
    }
   ],
   "source": [
    "# to count occurrence of char in string\n",
    "string =\"python yes\"\n",
    "ch='y'\n",
    "cnt =0\n",
    "for  i in string:\n",
    "    if i == ch:\n",
    "        cnt +=1\n",
    "print(cnt)"
   ]
  },
  {
   "cell_type": "code",
   "execution_count": 5,
   "id": "b73e2577",
   "metadata": {},
   "outputs": [
    {
     "name": "stdout",
     "output_type": "stream",
     "text": [
      "anagrams\n"
     ]
    }
   ],
   "source": [
    "#  to check string is anagrams or not\n",
    "str1 =\"python\"\n",
    "str2= \"yonthp\"\n",
    "if (sorted(str1) == sorted(str2)):\n",
    "    print(\"anagrams\")\n",
    "else:\n",
    "    print(\"not anagrams\")"
   ]
  },
  {
   "cell_type": "code",
   "execution_count": 8,
   "id": "6a9c77e1",
   "metadata": {},
   "outputs": [
    {
     "name": "stdout",
     "output_type": "stream",
     "text": [
      "not palidrome\n"
     ]
    }
   ],
   "source": [
    "# to check string is palindrome or not\n",
    "str =\"madam\"\n",
    "s = 0\n",
    "e = len(str)\n",
    "while s<e:\n",
    "    if str[s+1] != str[e-1]:\n",
    "        print(\"not palidrome\")\n",
    "        break\n",
    "else:\n",
    "    print(\"palodrome\")"
   ]
  },
  {
   "cell_type": "code",
   "execution_count": 9,
   "id": "121c0123",
   "metadata": {},
   "outputs": [
    {
     "name": "stdout",
     "output_type": "stream",
     "text": [
      "not digit\n"
     ]
    }
   ],
   "source": [
    "# to check given char is digit or not\n",
    "ch ='a'\n",
    "if ch>='0' and ch<='9':\n",
    "    print(\"digit\")\n",
    "else:\n",
    "    print(\"not digit\")"
   ]
  },
  {
   "cell_type": "code",
   "execution_count": 12,
   "id": "3f002b55",
   "metadata": {},
   "outputs": [
    {
     "name": "stdout",
     "output_type": "stream",
     "text": [
      "madam\n"
     ]
    }
   ],
   "source": [
    "# to replace the string with any given  char\n",
    "st =\"m d m\"\n",
    "res =\"\"\n",
    "ch='a'\n",
    "for i in st:\n",
    "    if i ==\" \":\n",
    "        i= ch\n",
    "    res+=i\n",
    "print(res)  "
   ]
  },
  {
   "cell_type": "code",
   "execution_count": 14,
   "id": "6e8d2839",
   "metadata": {},
   "outputs": [
    {
     "data": {
      "text/plain": [
       "'CODE'"
      ]
     },
     "execution_count": 14,
     "metadata": {},
     "output_type": "execute_result"
    }
   ],
   "source": [
    "#  remove whitle space\n",
    "re ='C O D E'\n",
    "res =\"\"\n",
    "for i in re:\n",
    "    if i ==\" \":\n",
    "        continue\n",
    "    res+=i\n",
    "res  "
   ]
  },
  {
   "cell_type": "code",
   "execution_count": null,
   "id": "893f4d30",
   "metadata": {},
   "outputs": [],
   "source": []
  }
 ],
 "metadata": {
  "kernelspec": {
   "display_name": "Python 3 (ipykernel)",
   "language": "python",
   "name": "python3"
  },
  "language_info": {
   "codemirror_mode": {
    "name": "ipython",
    "version": 3
   },
   "file_extension": ".py",
   "mimetype": "text/x-python",
   "name": "python",
   "nbconvert_exporter": "python",
   "pygments_lexer": "ipython3",
   "version": "3.8.3"
  }
 },
 "nbformat": 4,
 "nbformat_minor": 5
}
