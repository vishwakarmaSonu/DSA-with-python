{
 "cells": [
  {
   "cell_type": "code",
   "execution_count": 26,
   "id": "204fe9cf",
   "metadata": {},
   "outputs": [
    {
     "data": {
      "text/plain": [
       "[1, 2, 3, 4, 6]"
      ]
     },
     "execution_count": 26,
     "metadata": {},
     "output_type": "execute_result"
    }
   ],
   "source": [
    "# bubble sorting\n",
    "l =[4,3,1,6,2]\n",
    "def fun(l):\n",
    "    n = len(l)\n",
    "    for i in range(0,n):\n",
    "        for j in range(n):\n",
    "            if l[i]<l[j]:\n",
    "                l[i] ,l[j] = l[j] ,l[i]\n",
    "            \n",
    "fun(l)\n",
    "l"
   ]
  },
  {
   "cell_type": "code",
   "execution_count": 27,
   "id": "15f182dc",
   "metadata": {},
   "outputs": [
    {
     "data": {
      "text/plain": [
       "[1, 2, 3, 4, 6]"
      ]
     },
     "execution_count": 27,
     "metadata": {},
     "output_type": "execute_result"
    }
   ],
   "source": [
    "# merge sort\n",
    "n = len(l)\n",
    "s =0\n",
    "def mer(l, s,m, n):\n",
    "    \n",
    "    n1 = m-s+1\n",
    "    n2 = n-m\n",
    "    \n",
    "    l1 =[0]*(n1)\n",
    "    l2 =[0]*(n2)\n",
    "    for i in range(0,n1):\n",
    "        l1[i] = arr[s+i]\n",
    "    \n",
    "    for j in range(0,n2):\n",
    "        l2[j] = arr[m+1+j]\n",
    "        \n",
    "    i =0\n",
    "    j = 0\n",
    "    k = s\n",
    "    \n",
    "    while i <n1 and j<n2:\n",
    "        if l1[i]<=l2[j]:\n",
    "            arr[k] = l1[i]\n",
    "            i+=1\n",
    "        else:\n",
    "            arr[k] = l2[j]\n",
    "            j+=1\n",
    "        k+=1\n",
    "    while i<n1:\n",
    "        arr[k] = l1[i]\n",
    "        i+=1\n",
    "        k+=1\n",
    "    while j<n2:\n",
    "        arr[k] = l2[j]\n",
    "        j+=1\n",
    "        k+=1\n",
    "        \n",
    "def fun(l, s, n):\n",
    "    if s<n:\n",
    "        m = s+(n-s)//2\n",
    "        fun(l,s,m)\n",
    "        fun(l,m+1,n)\n",
    "        mer(l, s, m, n)\n",
    "fun(l,s,n-1)\n",
    "l"
   ]
  },
  {
   "cell_type": "code",
   "execution_count": 3,
   "id": "095ce3c7",
   "metadata": {},
   "outputs": [
    {
     "data": {
      "text/plain": [
       "[8, 12, 19, 45, 51]"
      ]
     },
     "execution_count": 3,
     "metadata": {},
     "output_type": "execute_result"
    }
   ],
   "source": [
    "# insertion sort\n",
    "# first position consider sorted \n",
    "l =[8,12,19,45,51]\n",
    "n = len(l)\n",
    "for i in range(1,n):\n",
    "    curr =l[i]\n",
    "    j = i-1\n",
    "    while l[j]>curr and j>=0:\n",
    "        l[j+1] = l[i]\n",
    "        j-=1\n",
    "    l[j+1] = curr\n",
    "l"
   ]
  },
  {
   "cell_type": "code",
   "execution_count": 8,
   "id": "e31597cd",
   "metadata": {},
   "outputs": [
    {
     "data": {
      "text/plain": [
       "[-202, -97, -9, -2, 0, 11, 45, 88, 747]"
      ]
     },
     "execution_count": 8,
     "metadata": {},
     "output_type": "execute_result"
    }
   ],
   "source": [
    "# selection sort\n",
    "arr = [-2, 45, 0, 11, -9,88,-97,-202,747]\n",
    "size = len(arr)\n",
    "def selectionSort(arr, size):\n",
    "    for i in range(size):\n",
    "        min_index = i\n",
    "        for j in range(i+1,size):\n",
    "            if arr[j] < arr[min_index]:\n",
    "                min_index = j\n",
    "        arr[i] , arr[min_index] = arr[min_index],arr[i]\n",
    "selectionSort(arr, size)\n",
    "arr"
   ]
  },
  {
   "cell_type": "code",
   "execution_count": 9,
   "id": "f39889d9",
   "metadata": {},
   "outputs": [],
   "source": [
    "# searching\n",
    "# 1 linear search\n",
    "# 2 binary search"
   ]
  },
  {
   "cell_type": "code",
   "execution_count": 20,
   "id": "08f8d589",
   "metadata": {},
   "outputs": [
    {
     "data": {
      "text/plain": [
       "'not found!'"
      ]
     },
     "execution_count": 20,
     "metadata": {},
     "output_type": "execute_result"
    }
   ],
   "source": [
    "# linear search does not required array should be sorted   O(n)\n",
    "# binary search we required sorted array  O(logn)\n",
    "l =[5,4,1,2,7,6,3,9]\n",
    "tar =0\n",
    "def funk(l,tar):\n",
    "    for i in l:\n",
    "        if i ==tar:\n",
    "            return \"found!\"\n",
    "    else:\n",
    "        return \"not found!\"\n",
    "funk(l,tar)"
   ]
  },
  {
   "cell_type": "code",
   "execution_count": 40,
   "id": "a766e3c6",
   "metadata": {},
   "outputs": [
    {
     "name": "stdout",
     "output_type": "stream",
     "text": [
      "[1, 2, 3, 4, 5, 6, 7, 9]\n",
      "\n",
      "tar 5\n"
     ]
    },
    {
     "data": {
      "text/plain": [
       "'found!'"
      ]
     },
     "execution_count": 40,
     "metadata": {},
     "output_type": "execute_result"
    }
   ],
   "source": [
    "# binary search \n",
    "l.sort()\n",
    "print(l)\n",
    "print()\n",
    "\n",
    "tar =5\n",
    "print(\"tar\",tar)\n",
    "def fun(l,tar):\n",
    "    s = 0\n",
    "    e = len(l)\n",
    "    while  s<e:\n",
    "        \n",
    "        mid = s+(e-s)//2\n",
    "        if l[mid] ==tar:\n",
    "            return(\"found!\")\n",
    "            \n",
    "        elif(l[mid]>tar):\n",
    "            s = mid+1\n",
    "        else:\n",
    "            e = mid-1\n",
    "    return \"not found!\"\n",
    "fun(l,tar)\n",
    "\n",
    "\n"
   ]
  },
  {
   "cell_type": "code",
   "execution_count": null,
   "id": "461e79e4",
   "metadata": {},
   "outputs": [],
   "source": []
  },
  {
   "cell_type": "code",
   "execution_count": null,
   "id": "be5faa68",
   "metadata": {},
   "outputs": [],
   "source": []
  }
 ],
 "metadata": {
  "kernelspec": {
   "display_name": "Python 3 (ipykernel)",
   "language": "python",
   "name": "python3"
  },
  "language_info": {
   "codemirror_mode": {
    "name": "ipython",
    "version": 3
   },
   "file_extension": ".py",
   "mimetype": "text/x-python",
   "name": "python",
   "nbconvert_exporter": "python",
   "pygments_lexer": "ipython3",
   "version": "3.8.3"
  }
 },
 "nbformat": 4,
 "nbformat_minor": 5
}
