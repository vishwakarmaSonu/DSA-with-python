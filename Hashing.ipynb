{
 "cells": [
  {
   "cell_type": "code",
   "execution_count": 21,
   "id": "d6c51f11",
   "metadata": {},
   "outputs": [
    {
     "name": "stdout",
     "output_type": "stream",
     "text": [
      "{1: 1, 3: 1, 2: 2, 4: 2, 5: 1}\n"
     ]
    }
   ],
   "source": [
    "# count frequency\n",
    "arr = [1,3,2,4,2,5,4]\n",
    "has ={}\n",
    "for i in arr:\n",
    "    if i in has:\n",
    "        has[i]+=1\n",
    "    else:\n",
    "        has[i] =1\n",
    "print(has)"
   ]
  },
  {
   "cell_type": "code",
   "execution_count": 41,
   "id": "ffc10563",
   "metadata": {},
   "outputs": [
    {
     "name": "stdout",
     "output_type": "stream",
     "text": [
      "less fre 15\n",
      "more fre 10\n"
     ]
    }
   ],
   "source": [
    "# find the highest/lowest frequency\n",
    "arr = [10,5,10,15,10,5]\n",
    "def fun(arr):\n",
    "    has ={}\n",
    "    for i in arr:\n",
    "        if i in has:\n",
    "            has[i]+=1\n",
    "        else:\n",
    "            has[i]=1\n",
    "    return has\n",
    "d = fun(arr)\n",
    "a = min(d.values())\n",
    "b = max(d.values())\n",
    "min_key = [key for key,fr in fun(arr).items() if fr==a]\n",
    "max_key = [key for key, fr in fun(arr).items() if fr ==b]\n",
    "print(\"less fre\",min_key[0])\n",
    "print(\"more fre\",max_key[0])"
   ]
  },
  {
   "cell_type": "code",
   "execution_count": null,
   "id": "aba324ff",
   "metadata": {},
   "outputs": [],
   "source": []
  }
 ],
 "metadata": {
  "kernelspec": {
   "display_name": "Python 3 (ipykernel)",
   "language": "python",
   "name": "python3"
  },
  "language_info": {
   "codemirror_mode": {
    "name": "ipython",
    "version": 3
   },
   "file_extension": ".py",
   "mimetype": "text/x-python",
   "name": "python",
   "nbconvert_exporter": "python",
   "pygments_lexer": "ipython3",
   "version": "3.8.3"
  }
 },
 "nbformat": 4,
 "nbformat_minor": 5
}
