{
 "cells": [
  {
   "cell_type": "code",
   "execution_count": 2,
   "id": "53a9ce9d",
   "metadata": {},
   "outputs": [
    {
     "name": "stdout",
     "output_type": "stream",
     "text": [
      "1\n"
     ]
    }
   ],
   "source": [
    "l =[2,2,1]\n",
    "d ={}\n",
    "for i in l:\n",
    "    if i in d:\n",
    "        d[i]+=1\n",
    "    else:\n",
    "        d[i]=1\n",
    "for i,j in d.items():\n",
    "    if j ==1:\n",
    "        print(i)"
   ]
  },
  {
   "cell_type": "code",
   "execution_count": 12,
   "id": "c08f7ac1",
   "metadata": {},
   "outputs": [
    {
     "name": "stdout",
     "output_type": "stream",
     "text": [
      "2\n"
     ]
    }
   ],
   "source": [
    "l =[2,3,5]\n",
    "n = len(l)\n",
    "k = 5\n",
    "sum =0\n",
    "res =0\n",
    "for i in range(n):\n",
    "    sum =0\n",
    "    for j in range(i,n):\n",
    "        sum = sum +l[j]\n",
    "        if sum ==k:\n",
    "            p = (j-i+1)\n",
    "            res = max(res,p)\n",
    "print(res)"
   ]
  },
  {
   "cell_type": "code",
   "execution_count": 13,
   "id": "59ec7a9b",
   "metadata": {},
   "outputs": [
    {
     "name": "stdout",
     "output_type": "stream",
     "text": [
      "6\n"
     ]
    }
   ],
   "source": [
    " arr = [-2,1,-3,4,-1,2,1,-5,4] \n",
    "n = len(arr)\n",
    "sum =0\n",
    "res =0\n",
    "for i in range(n):\n",
    "    sum =0\n",
    "    for j in range(i,n):\n",
    "        sum += arr[j]\n",
    "        res = max(sum,res)\n",
    "        \n",
    "print(res)   "
   ]
  },
  {
   "cell_type": "code",
   "execution_count": 31,
   "id": "ac94f5c2",
   "metadata": {
    "scrolled": true
   },
   "outputs": [
    {
     "data": {
      "text/plain": [
       "5"
      ]
     },
     "execution_count": 31,
     "metadata": {},
     "output_type": "execute_result"
    }
   ],
   "source": [
    "# stock buy and sell\n",
    "arr = [7,1,5,3,6,4]\n",
    "n =len(arr)\n",
    "sum =0\n",
    "res =0\n",
    "for i in range(n-1,-1,-1):\n",
    "    sum =0\n",
    "    for j in range(i,-1,-1):\n",
    "        sum = arr[i]-arr[j]\n",
    "        res = max(res, sum)\n",
    "res\n",
    "\n",
    "\n",
    "        \n"
   ]
  },
  {
   "cell_type": "code",
   "execution_count": 37,
   "id": "d169571c",
   "metadata": {},
   "outputs": [
    {
     "data": {
      "text/plain": [
       "[5, 4, 3, 2, 1]"
      ]
     },
     "execution_count": 37,
     "metadata": {},
     "output_type": "execute_result"
    }
   ],
   "source": [
    "l =[1,2,3,4,5]\n",
    "l.reverse()\n",
    "l"
   ]
  },
  {
   "cell_type": "code",
   "execution_count": 38,
   "id": "e870f6b3",
   "metadata": {},
   "outputs": [
    {
     "data": {
      "text/plain": [
       "[1, 2, 3, 4, 5]"
      ]
     },
     "execution_count": 38,
     "metadata": {},
     "output_type": "execute_result"
    }
   ],
   "source": [
    "l[::-1]"
   ]
  },
  {
   "cell_type": "code",
   "execution_count": 69,
   "id": "34f17097",
   "metadata": {},
   "outputs": [
    {
     "name": "stdout",
     "output_type": "stream",
     "text": [
      "[5, 4, 3, 2, 1]\n"
     ]
    }
   ],
   "source": [
    "def reverse_list_manual(lst):\n",
    "    reversed_list = []\n",
    "    for item in lst:\n",
    "        reversed_list.insert(0, item)\n",
    "    return reversed_list\n",
    "\n",
    "# Example usage\n",
    "my_list = [1, 2, 3, 4, 5]\n",
    "reversed_list = reverse_list_manual(my_list)\n",
    "print(reversed_list)\n"
   ]
  },
  {
   "cell_type": "code",
   "execution_count": 101,
   "id": "87ab02a8",
   "metadata": {},
   "outputs": [],
   "source": [
    "e =[]\n",
    "for i in range(6,3,-1):\n",
    "    e.insert(23456789,i)"
   ]
  },
  {
   "cell_type": "code",
   "execution_count": 102,
   "id": "e7d68b07",
   "metadata": {},
   "outputs": [
    {
     "data": {
      "text/plain": [
       "[6, 5, 4]"
      ]
     },
     "execution_count": 102,
     "metadata": {},
     "output_type": "execute_result"
    }
   ],
   "source": [
    "e"
   ]
  },
  {
   "cell_type": "code",
   "execution_count": null,
   "id": "373cbe41",
   "metadata": {},
   "outputs": [],
   "source": []
  },
  {
   "cell_type": "code",
   "execution_count": null,
   "id": "e64faf80",
   "metadata": {},
   "outputs": [],
   "source": []
  }
 ],
 "metadata": {
  "kernelspec": {
   "display_name": "Python 3 (ipykernel)",
   "language": "python",
   "name": "python3"
  },
  "language_info": {
   "codemirror_mode": {
    "name": "ipython",
    "version": 3
   },
   "file_extension": ".py",
   "mimetype": "text/x-python",
   "name": "python",
   "nbconvert_exporter": "python",
   "pygments_lexer": "ipython3",
   "version": "3.8.3"
  }
 },
 "nbformat": 4,
 "nbformat_minor": 5
}
