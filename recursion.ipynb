{
 "cells": [
  {
   "cell_type": "code",
   "execution_count": 1,
   "id": "a09f84a2",
   "metadata": {},
   "outputs": [],
   "source": [
    "# recursion and iterative process"
   ]
  },
  {
   "cell_type": "code",
   "execution_count": 2,
   "id": "2e49e0ce",
   "metadata": {},
   "outputs": [
    {
     "name": "stdout",
     "output_type": "stream",
     "text": [
      "1\n",
      "2\n",
      "3\n",
      "4\n",
      "5\n",
      "6\n",
      "7\n",
      "8\n",
      "9\n",
      "10\n"
     ]
    }
   ],
   "source": [
    "for i in range(1,11):\n",
    "    print(i)"
   ]
  },
  {
   "cell_type": "code",
   "execution_count": 11,
   "id": "e70be760",
   "metadata": {},
   "outputs": [
    {
     "name": "stdout",
     "output_type": "stream",
     "text": [
      "6\n",
      "5\n",
      "4\n",
      "3\n",
      "2\n",
      "1\n"
     ]
    }
   ],
   "source": [
    "def fun(n):\n",
    "    if n==0:\n",
    "        return n\n",
    "    print(n)\n",
    "    fun(n-1)\n",
    "fun(6)\n",
    "# tail recursion"
   ]
  },
  {
   "cell_type": "code",
   "execution_count": 14,
   "id": "3e77c02d",
   "metadata": {},
   "outputs": [
    {
     "name": "stdout",
     "output_type": "stream",
     "text": [
      "1\n",
      "2\n",
      "3\n",
      "4\n",
      "5\n",
      "6\n"
     ]
    }
   ],
   "source": [
    "def fun(n):\n",
    "    if n==0:\n",
    "        return n\n",
    "    fun(n-1)\n",
    "    print(n)\n",
    "fun(6)\n",
    "# head recursion"
   ]
  },
  {
   "cell_type": "code",
   "execution_count": 16,
   "id": "568ee2ba",
   "metadata": {},
   "outputs": [
    {
     "data": {
      "text/plain": [
       "21"
      ]
     },
     "execution_count": 16,
     "metadata": {},
     "output_type": "execute_result"
    }
   ],
   "source": [
    "# sum of first n natural number\n",
    "def fun(n):\n",
    "#     base case\n",
    "    if n==0:\n",
    "        return n\n",
    "    return n+fun(n-1)\n",
    "fun(6)"
   ]
  },
  {
   "cell_type": "code",
   "execution_count": 19,
   "id": "22c26c30",
   "metadata": {},
   "outputs": [
    {
     "data": {
      "text/plain": [
       "24"
      ]
     },
     "execution_count": 19,
     "metadata": {},
     "output_type": "execute_result"
    }
   ],
   "source": [
    "# factorial \n",
    "def fun(n):\n",
    "    if n==1:\n",
    "        return n\n",
    "    return n*fun(n-1)\n",
    "fun(4)"
   ]
  },
  {
   "cell_type": "code",
   "execution_count": 1,
   "id": "593cf194",
   "metadata": {},
   "outputs": [
    {
     "data": {
      "text/plain": [
       "5"
      ]
     },
     "execution_count": 1,
     "metadata": {},
     "output_type": "execute_result"
    }
   ],
   "source": [
    "# fibonacci\n",
    "def fun(n):\n",
    "    if n==0 or n==1:\n",
    "        return n\n",
    "    return fun(n-1)+fun(n-2)\n",
    "fun(5)"
   ]
  },
  {
   "cell_type": "code",
   "execution_count": 2,
   "id": "8e51bc35",
   "metadata": {},
   "outputs": [
    {
     "name": "stdout",
     "output_type": "stream",
     "text": [
      "[1, 2, 3, 4, 5]\n",
      "[5, 4, 3, 2, 1]\n"
     ]
    }
   ],
   "source": [
    "# reverse a given array\n",
    "def rev(arr, start, end):\n",
    "    if start>=end:\n",
    "        return\n",
    "    arr[start],arr[end] = arr[end],arr[start]\n",
    "    rev(arr, start+1,end-1)\n",
    "    \n",
    "    \n",
    "    \n",
    "arr =[1,2,3,4,5]\n",
    "print(arr)\n",
    "rev(arr, 0,len(arr)-1)\n",
    "print(arr)"
   ]
  },
  {
   "cell_type": "code",
   "execution_count": 18,
   "id": "07a0888b",
   "metadata": {},
   "outputs": [
    {
     "name": "stdout",
     "output_type": "stream",
     "text": [
      " enter a string sso\n",
      "sso  is not palidrome\n"
     ]
    }
   ],
   "source": [
    "# palidrome or not\n",
    "n = input(\" enter a string \")\n",
    "def fun(st, start, end):\n",
    "    if start>=end:\n",
    "        return True\n",
    "    if st[start]!=st[end]:\n",
    "        return False\n",
    "    return fun(st, start+1,end-1)\n",
    "st = n\n",
    "start =0\n",
    "end = len(st)-1\n",
    "k =fun(st,start, end)\n",
    "if k:\n",
    "    print(f\"{st}  is palidrome\")\n",
    "else:\n",
    "    print(f\"{st}  is not palidrome\")"
   ]
  },
  {
   "cell_type": "code",
   "execution_count": null,
   "id": "d6c51f11",
   "metadata": {},
   "outputs": [],
   "source": []
  }
 ],
 "metadata": {
  "kernelspec": {
   "display_name": "Python 3 (ipykernel)",
   "language": "python",
   "name": "python3"
  },
  "language_info": {
   "codemirror_mode": {
    "name": "ipython",
    "version": 3
   },
   "file_extension": ".py",
   "mimetype": "text/x-python",
   "name": "python",
   "nbconvert_exporter": "python",
   "pygments_lexer": "ipython3",
   "version": "3.8.3"
  }
 },
 "nbformat": 4,
 "nbformat_minor": 5
}
