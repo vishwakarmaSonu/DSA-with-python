{
 "cells": [
  {
   "cell_type": "code",
   "execution_count": 8,
   "id": "0b9ebc8b",
   "metadata": {},
   "outputs": [
    {
     "data": {
      "text/plain": [
       "6"
      ]
     },
     "execution_count": 8,
     "metadata": {},
     "output_type": "execute_result"
    }
   ],
   "source": [
    "# largest number\n",
    "l =[2,5,1,3,0,6]\n",
    "def funs(l):\n",
    "    res =0\n",
    "    for i in l:\n",
    "        if res<i:\n",
    "            res =i\n",
    "    return res\n",
    "funs(l)"
   ]
  },
  {
   "cell_type": "code",
   "execution_count": 9,
   "id": "95d3227f",
   "metadata": {},
   "outputs": [
    {
     "data": {
      "text/plain": [
       "5"
      ]
     },
     "execution_count": 9,
     "metadata": {},
     "output_type": "execute_result"
    }
   ],
   "source": [
    "# second largest number\n",
    "l =[1,2,4,7,7,5]\n",
    "def fun(l):\n",
    "    m = funs(l)\n",
    "    res = 0\n",
    "    for i in l:\n",
    "        \n",
    "        if i>res and i!=m:\n",
    "            res=i\n",
    "    return res\n",
    "fun(l)"
   ]
  },
  {
   "cell_type": "code",
   "execution_count": 14,
   "id": "f0e2799c",
   "metadata": {},
   "outputs": [
    {
     "data": {
      "text/plain": [
       "False"
      ]
     },
     "execution_count": 14,
     "metadata": {},
     "output_type": "execute_result"
    }
   ],
   "source": [
    "# check if the array is sorted\n",
    "l =[1,9,3,6,5]\n",
    "n = len(l)\n",
    "def fun(l,n):\n",
    "   \n",
    "    if n== 0 or n==1:\n",
    "        return True\n",
    "    if l[n-2]>l[n-1]:\n",
    "        return False\n",
    "    return fun(l ,n-1)\n",
    "fun(l,n)"
   ]
  },
  {
   "cell_type": "code",
   "execution_count": 21,
   "id": "8501b230",
   "metadata": {},
   "outputs": [
    {
     "data": {
      "text/plain": [
       "[1, 2, 3]"
      ]
     },
     "execution_count": 21,
     "metadata": {},
     "output_type": "execute_result"
    }
   ],
   "source": [
    "# remove duplicate from sorted array\n",
    "l = [1,1,2,2,2,3,3]\n",
    "ar =[]\n",
    "def fun(l):\n",
    "    for i in l:\n",
    "        if i in ar:\n",
    "            continue\n",
    "        else:\n",
    "            ar.append(i)\n",
    "    return ar\n",
    "fun(l)"
   ]
  },
  {
   "cell_type": "code",
   "execution_count": 22,
   "id": "f875cbf7",
   "metadata": {},
   "outputs": [
    {
     "data": {
      "text/plain": [
       "[3, 4, 5, 1, 2]"
      ]
     },
     "execution_count": 22,
     "metadata": {},
     "output_type": "execute_result"
    }
   ],
   "source": [
    "# left rotate the array by one\n",
    "l = [1,2,3,4,5]\n",
    "ar =[]\n",
    "def fun(l,n):\n",
    "    for i in l[n:]:\n",
    "        ar.append(i)\n",
    "    for j in l[:n]:\n",
    "        ar.append(j)\n",
    "    return ar\n",
    "   \n",
    "fun(l,2)\n",
    "    \n"
   ]
  },
  {
   "cell_type": "code",
   "execution_count": 28,
   "id": "ceffffe0",
   "metadata": {},
   "outputs": [
    {
     "data": {
      "text/plain": [
       "[1, 1, 2, 3, 4]"
      ]
     },
     "execution_count": 28,
     "metadata": {},
     "output_type": "execute_result"
    }
   ],
   "source": [
    "# move all zeros to the end of the array\n",
    "l =[1 ,0 ,2 ,3 ,0 ,4 ,0 ,1]\n",
    "arr =[]\n",
    "def fun(l):\n",
    "    for i in l:\n",
    "        if i!=0:\n",
    "            arr.append(i)\n",
    "    return arr\n",
    "b =fun(l)\n",
    "b.sort()\n",
    "b"
   ]
  },
  {
   "cell_type": "code",
   "execution_count": 33,
   "id": "ce6fef32",
   "metadata": {},
   "outputs": [
    {
     "name": "stdout",
     "output_type": "stream",
     "text": [
      "found\n"
     ]
    }
   ],
   "source": [
    "# linear search\n",
    "l = [1 ,2 ,3 ,4 ,5]\n",
    "num = 3\n",
    "def fun(l, num):\n",
    "    for i in l:\n",
    "        if i ==num:\n",
    "            print(\"found\")\n",
    "            break\n",
    "    else:\n",
    "        print(\"not found\")\n",
    "fun(l,num)"
   ]
  },
  {
   "cell_type": "code",
   "execution_count": 55,
   "id": "148a7eeb",
   "metadata": {},
   "outputs": [
    {
     "name": "stdout",
     "output_type": "stream",
     "text": [
      "4\n"
     ]
    }
   ],
   "source": [
    "# find the missing number in an array\n",
    "l =[1,2,3,5]\n",
    "def fun(l):\n",
    "    n = max(l)\n",
    "    has =[0]*(n+1)\n",
    "    for i in l:\n",
    "        has[i]+=1\n",
    "    return has\n",
    "n = 0\n",
    "for i in fun(l)[1:]:\n",
    "    n+=1\n",
    "    if i ==0:\n",
    "        print(n)\n",
    "        break\n",
    "    \n"
   ]
  },
  {
   "cell_type": "code",
   "execution_count": 57,
   "id": "84b819f3",
   "metadata": {},
   "outputs": [
    {
     "data": {
      "text/plain": [
       "3"
      ]
     },
     "execution_count": 57,
     "metadata": {},
     "output_type": "execute_result"
    }
   ],
   "source": [
    "# count maximum consecutive one`s in the array\n",
    "l =[1, 1, 0, 1, 1, 1]\n",
    "def fun(l):\n",
    "    num =0\n",
    "    su=0\n",
    "    for i in l:\n",
    "        if i == 1:\n",
    "            num+=1\n",
    "            su = max(num, su)\n",
    "        else:\n",
    "            num =0\n",
    "    return su\n",
    "fun(l)"
   ]
  },
  {
   "cell_type": "code",
   "execution_count": 67,
   "id": "017d896d",
   "metadata": {},
   "outputs": [
    {
     "name": "stdout",
     "output_type": "stream",
     "text": [
      "1\n"
     ]
    }
   ],
   "source": [
    "l =[2,2,1]\n",
    "def fun(l):\n",
    "    d ={}\n",
    "    for i in l:\n",
    "        if i in d:\n",
    "            d[i]+=1\n",
    "        else:\n",
    "            d[i] =1\n",
    "    return d\n",
    "for i ,j in fun(l).items():\n",
    "    if j==1:\n",
    "        print(i)\n"
   ]
  },
  {
   "cell_type": "code",
   "execution_count": null,
   "id": "95c9f194",
   "metadata": {},
   "outputs": [],
   "source": []
  }
 ],
 "metadata": {
  "kernelspec": {
   "display_name": "Python 3 (ipykernel)",
   "language": "python",
   "name": "python3"
  },
  "language_info": {
   "codemirror_mode": {
    "name": "ipython",
    "version": 3
   },
   "file_extension": ".py",
   "mimetype": "text/x-python",
   "name": "python",
   "nbconvert_exporter": "python",
   "pygments_lexer": "ipython3",
   "version": "3.8.3"
  }
 },
 "nbformat": 4,
 "nbformat_minor": 5
}
