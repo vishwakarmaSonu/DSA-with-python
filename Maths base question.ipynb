{
 "cells": [
  {
   "cell_type": "code",
   "execution_count": 1,
   "id": "650987f1",
   "metadata": {},
   "outputs": [
    {
     "name": "stdout",
     "output_type": "stream",
     "text": [
      "5\n"
     ]
    }
   ],
   "source": [
    "# digit count\n",
    "l =12345\n",
    "sum =0\n",
    "while l!=0:\n",
    "    sum+=1\n",
    "    l = l//10\n",
    "print(sum)\n",
    "    "
   ]
  },
  {
   "cell_type": "code",
   "execution_count": 2,
   "id": "ed24a421",
   "metadata": {},
   "outputs": [
    {
     "name": "stdout",
     "output_type": "stream",
     "text": [
      "54321\n"
     ]
    }
   ],
   "source": [
    "# reverse number\n",
    "l=12345\n",
    "sum =0\n",
    "while l!=0:\n",
    "    s = l%10\n",
    "    sum =sum*10+s\n",
    "    l = l//10\n",
    "print(sum)"
   ]
  },
  {
   "cell_type": "code",
   "execution_count": 8,
   "id": "1f900eee",
   "metadata": {},
   "outputs": [
    {
     "data": {
      "text/plain": [
       "True"
      ]
     },
     "execution_count": 8,
     "metadata": {},
     "output_type": "execute_result"
    }
   ],
   "source": [
    "# check palidrome\n",
    "def fun(n):\n",
    "    a = n\n",
    "    sum =0\n",
    "    while n!=0:\n",
    "        s = n%10\n",
    "        sum= sum*10+s\n",
    "        n = n//10\n",
    "    return (a == sum)\n",
    "l =121\n",
    "fun(l)\n",
    "        "
   ]
  },
  {
   "cell_type": "code",
   "execution_count": 1,
   "id": "b563bf5e",
   "metadata": {},
   "outputs": [
    {
     "data": {
      "text/plain": [
       "153"
      ]
     },
     "execution_count": 1,
     "metadata": {},
     "output_type": "execute_result"
    }
   ],
   "source": [
    "# armstrong number\n",
    "l = 153\n",
    "def lens(l):\n",
    "    sum =0\n",
    "    while l!=0:\n",
    "        sum+=1\n",
    "        l = l//10\n",
    "    return sum\n",
    "\n",
    "def arms(l):\n",
    "    n = lens(l)\n",
    "    sum =0\n",
    "    while l!=0:\n",
    "        d = l%10\n",
    "        s = pow(d,n)\n",
    "        l = l//10\n",
    "        sum = sum+s\n",
    "    return sum\n",
    "arms(l)"
   ]
  },
  {
   "cell_type": "code",
   "execution_count": 3,
   "id": "10dfc145",
   "metadata": {},
   "outputs": [
    {
     "data": {
      "text/plain": [
       "'prime number'"
      ]
     },
     "execution_count": 3,
     "metadata": {},
     "output_type": "execute_result"
    }
   ],
   "source": [
    "# prime number\n",
    "l =5\n",
    "def fun(l):\n",
    "    for i in range(2,l):\n",
    "        if l%i==0:\n",
    "            return \"not prime number\"\n",
    "    return \"prime number\"\n",
    "fun(l)"
   ]
  },
  {
   "cell_type": "code",
   "execution_count": 14,
   "id": "4455b4d1",
   "metadata": {},
   "outputs": [
    {
     "name": "stdout",
     "output_type": "stream",
     "text": [
      "GCD ===> 2\n",
      "HCF ===> 12\n",
      "----------------------------------------\n",
      "a*b ==> 24 || GCD*HCF==>  24\n"
     ]
    }
   ],
   "source": [
    "# GCD and HCF\n",
    "a =4\n",
    "b=6\n",
    "def GCD(a, b):\n",
    "    if a == 0:\n",
    "        return b\n",
    "    return GCD(b % a, a)\n",
    "print(f\"GCD ===> {GCD(a,b)}\")\n",
    "\n",
    "# we know that  a*b = GCD*HCF\n",
    "def HCF(a,b):\n",
    "    m = a*b\n",
    "    n = GCD(a,b)\n",
    "    ans = m//n\n",
    "    return ans\n",
    "\n",
    "print(f\"HCF ===> {HCF(a,b)}\")\n",
    "print(\"--\"*20)\n",
    "print(f\"a*b ==> {a*b} || GCD*HCF==>  {HCF(a,b)*GCD(a,b)}\")\n"
   ]
  },
  {
   "cell_type": "code",
   "execution_count": null,
   "id": "47b4bfa8",
   "metadata": {},
   "outputs": [],
   "source": [
    "# Diversors\n",
    "l = 12\n",
    "ls=[]\n",
    "for i in range(1,l+1):\n",
    "    if i\n",
    "    "
   ]
  }
 ],
 "metadata": {
  "kernelspec": {
   "display_name": "Python 3 (ipykernel)",
   "language": "python",
   "name": "python3"
  },
  "language_info": {
   "codemirror_mode": {
    "name": "ipython",
    "version": 3
   },
   "file_extension": ".py",
   "mimetype": "text/x-python",
   "name": "python",
   "nbconvert_exporter": "python",
   "pygments_lexer": "ipython3",
   "version": "3.8.3"
  }
 },
 "nbformat": 4,
 "nbformat_minor": 5
}
